{
 "cells": [
  {
   "cell_type": "code",
   "execution_count": 12,
   "metadata": {},
   "outputs": [],
   "source": [
    "#import library to query website\n",
    "import urllib.request\n",
    "import pandas as pd"
   ]
  },
  {
   "cell_type": "code",
   "execution_count": 13,
   "metadata": {},
   "outputs": [],
   "source": [
    "indeed=\"https://www.indeed.com/jobs?q=data%20scientist&l=San%20Diego%2C%20CA&vjk=95655dad3e5dd840\""
   ]
  },
  {
   "cell_type": "code",
   "execution_count": 14,
   "metadata": {},
   "outputs": [],
   "source": [
    "#translate/import the web into html code \n",
    "page=urllib.request.urlopen(indeed)"
   ]
  },
  {
   "cell_type": "code",
   "execution_count": 15,
   "metadata": {},
   "outputs": [],
   "source": [
    "from bs4 import BeautifulSoup"
   ]
  },
  {
   "cell_type": "code",
   "execution_count": 16,
   "metadata": {},
   "outputs": [],
   "source": [
    "soup= BeautifulSoup(page)"
   ]
  },
  {
   "cell_type": "code",
   "execution_count": 17,
   "metadata": {},
   "outputs": [
    {
     "data": {
      "text/plain": [
       "'Data Scientist II (Computational)\\nnew'"
      ]
     },
     "execution_count": 17,
     "metadata": {},
     "output_type": "execute_result"
    }
   ],
   "source": [
    "soup.find(\"h2\",class_='title').text.strip()"
   ]
  },
  {
   "cell_type": "code",
   "execution_count": 18,
   "metadata": {},
   "outputs": [
    {
     "name": "stdout",
     "output_type": "stream",
     "text": [
      "['Data Scientist II (Computational)\\nnew', 'Senior Marketing Data Scientist', 'Data Scientist\\nnew', 'Data Scientist - Remote\\nnew', 'Chief Data Scientist', 'Senior Data Scientist\\nnew', 'Senior AI / Knowledge Scientist\\nnew', 'Data Scientist II (Computational)\\nnew', 'Clinical Laboratory Scientist - Data Review\\nnew', 'Data Architect/Scientist', 'Data Scientist', 'Data Scientist/Management', 'Data Scientist - Nationwide Opportunities', 'Python/SQL Data Engineer, Consultant - Applied Artificial In...', 'Performance Data Analyst - Autonomous Vehicles\\nnew']\n"
     ]
    }
   ],
   "source": [
    "titles=soup.find_all(\"h2\",class_='title')\n",
    "title_list=[]\n",
    "for title in titles:\n",
    "    #look for string '\\nnew' and delete that part\n",
    "            title_list.append(title.text.strip())\n",
    "\n",
    "print(title_list)\n",
    "#            print(title.text.strip())\n",
    "#        elif title.text.strip() != 'Senior Business Data Analyst':\n",
    " #           print (title.text.strip())\n",
    "            \n",
    "\n",
    "            "
   ]
  },
  {
   "cell_type": "code",
   "execution_count": 19,
   "metadata": {},
   "outputs": [
    {
     "name": "stdout",
     "output_type": "stream",
     "text": [
      "['Decision Sciences', 'National Funding', 'HP', 'SemanticBits LLC', 'Roc Search', 'Decision Sciences International Corporation', 'CureMatch, Inc.', 'Decision Sciences International Corporation', 'Millennium Health', 'Wind River', 'Experian', 'Caelum Research Corporation', 'Amazon Web Services, Inc.', 'Deloitte', 'TuSimple']\n"
     ]
    }
   ],
   "source": [
    "companies=soup.find_all(\"span\",class_='company')\n",
    "company_list=[]\n",
    "for company in companies:\n",
    "    company_list.append(company.text.strip())\n",
    "print(company_list)\n",
    "\n"
   ]
  },
  {
   "cell_type": "code",
   "execution_count": 20,
   "metadata": {},
   "outputs": [
    {
     "name": "stdout",
     "output_type": "stream",
     "text": [
      "['Poway, CA 92064', 'San Diego, CA 92121 (Sorrento Valley area)', 'Poway, CA 92064', 'San Diego, CA', 'San Diego, CA', 'San Diego, CA', 'San Diego, CA 92037 (La Jolla area)', 'San Diego, CA', 'San Diego, CA 92101 (Marina area)', 'San Diego, CA']\n"
     ]
    }
   ],
   "source": [
    "locations=soup.find_all(\"span\",class_='location')\n",
    "location_list=[]\n",
    "for location in locations:\n",
    "    location_list.append(location.text.strip())\n",
    "print(location_list)"
   ]
  },
  {
   "cell_type": "code",
   "execution_count": 21,
   "metadata": {},
   "outputs": [
    {
     "name": "stdout",
     "output_type": "stream",
     "text": [
      "['Develop research and implementation plans, successfully execute and update those plans, and provide bi-weekly updates to management.\\nUp to 10% of the time.', 'Builds recommendations by synthesizing data from multiple sources, developing assumptions where needed, to drive business insights and strategy development.', 'Working within a dynamic, highly skilled and diverse Pricing Strategy and Analytics team (economists, engineers, scientists or even musicians – majority of them…', 'Strong grasp of statistics, programming, and modeling techniques (machine learning, classification, cluster analysis, data mining, databases, and visualization)…', 'Roc Search is currently recruiting for a Chief Data Scientist to join an exciting and innovative medical client looking to revolutionize cancer imaging…', 'Develop research and implementation plans, successfully execute and update those plans, and provide bi-weekly updates to management.\\nUp to 15% of the time.', 'Must be able to communicate effectively with other scientists and engineers.\\nExperience in modern statistical machine learning techniques.', 'Develop research and implementation plans, successfully execute and update those plans, and provide bi-weekly updates to management.\\nUp to 10% of the time.', 'May oversee the duties of clinical laboratory technicians, clinical laboratory assistants and associate scientists who prepare specimens or perform other less…', 'Wind River Systems is seeking an experienced high-performing senior software engineer for a position developing a hybrid cloud-based data analytics, machine…', 'Leading research and development projects on machine learning and data analytics.\\nIdentify/develop appropriate machine learning/deep learning/natural language…', 'Developing data management and data governance plans and working with metadata and data lifecycle.\\nPerforming a comprehensive review of the SWFSC and other FMCs…', 'Experience in an ML engineer or data scientist role building and deploying ML models or hands on experience developing deep learning models.', 'Drive operational efficiency by maintaining their data ecosystems, sourcing analytics expertise and providing As-a-Service offerings for continuous insights and…', 'Proficiency in finding trends and identifying the root causes of issues.\\nPerform tests that will include data capture, software deployment, and maintenance as…']\n"
     ]
    }
   ],
   "source": [
    "job_summary=soup.find_all(\"div\",class_='summary')\n",
    "desc_list=[]\n",
    "for summary in job_summary:\n",
    "    desc_list.append(summary.text.strip())\n",
    "print(desc_list)"
   ]
  },
  {
   "cell_type": "code",
   "execution_count": 22,
   "metadata": {},
   "outputs": [
    {
     "data": {
      "text/plain": [
       "[('Data Scientist II (Computational)\\nnew',\n",
       "  'Decision Sciences',\n",
       "  'Poway, CA 92064',\n",
       "  'Develop research and implementation plans, successfully execute and update those plans, and provide bi-weekly updates to management.\\nUp to 10% of the time.'),\n",
       " ('Senior Marketing Data Scientist',\n",
       "  'National Funding',\n",
       "  'San Diego, CA 92121 (Sorrento Valley area)',\n",
       "  'Builds recommendations by synthesizing data from multiple sources, developing assumptions where needed, to drive business insights and strategy development.'),\n",
       " ('Data Scientist\\nnew',\n",
       "  'HP',\n",
       "  'Poway, CA 92064',\n",
       "  'Working within a dynamic, highly skilled and diverse Pricing Strategy and Analytics team (economists, engineers, scientists or even musicians – majority of them…'),\n",
       " ('Data Scientist - Remote\\nnew',\n",
       "  'SemanticBits LLC',\n",
       "  'San Diego, CA',\n",
       "  'Strong grasp of statistics, programming, and modeling techniques (machine learning, classification, cluster analysis, data mining, databases, and visualization)…'),\n",
       " ('Chief Data Scientist',\n",
       "  'Roc Search',\n",
       "  'San Diego, CA',\n",
       "  'Roc Search is currently recruiting for a Chief Data Scientist to join an exciting and innovative medical client looking to revolutionize cancer imaging…'),\n",
       " ('Senior Data Scientist\\nnew',\n",
       "  'Decision Sciences International Corporation',\n",
       "  'San Diego, CA',\n",
       "  'Develop research and implementation plans, successfully execute and update those plans, and provide bi-weekly updates to management.\\nUp to 15% of the time.'),\n",
       " ('Senior AI / Knowledge Scientist\\nnew',\n",
       "  'CureMatch, Inc.',\n",
       "  'San Diego, CA 92037 (La Jolla area)',\n",
       "  'Must be able to communicate effectively with other scientists and engineers.\\nExperience in modern statistical machine learning techniques.'),\n",
       " ('Data Scientist II (Computational)\\nnew',\n",
       "  'Decision Sciences International Corporation',\n",
       "  'San Diego, CA',\n",
       "  'Develop research and implementation plans, successfully execute and update those plans, and provide bi-weekly updates to management.\\nUp to 10% of the time.'),\n",
       " ('Clinical Laboratory Scientist - Data Review\\nnew',\n",
       "  'Millennium Health',\n",
       "  'San Diego, CA 92101 (Marina area)',\n",
       "  'May oversee the duties of clinical laboratory technicians, clinical laboratory assistants and associate scientists who prepare specimens or perform other less…'),\n",
       " ('Data Architect/Scientist',\n",
       "  'Wind River',\n",
       "  'San Diego, CA',\n",
       "  'Wind River Systems is seeking an experienced high-performing senior software engineer for a position developing a hybrid cloud-based data analytics, machine…')]"
      ]
     },
     "execution_count": 22,
     "metadata": {},
     "output_type": "execute_result"
    }
   ],
   "source": [
    "# putting lists together into a dataframe\n",
    "job_data = list(zip(title_list,company_list,location_list,desc_list))\n",
    "job_data"
   ]
  },
  {
   "cell_type": "code",
   "execution_count": 23,
   "metadata": {},
   "outputs": [
    {
     "data": {
      "text/html": [
       "<div>\n",
       "<style scoped>\n",
       "    .dataframe tbody tr th:only-of-type {\n",
       "        vertical-align: middle;\n",
       "    }\n",
       "\n",
       "    .dataframe tbody tr th {\n",
       "        vertical-align: top;\n",
       "    }\n",
       "\n",
       "    .dataframe thead th {\n",
       "        text-align: right;\n",
       "    }\n",
       "</style>\n",
       "<table border=\"1\" class=\"dataframe\">\n",
       "  <thead>\n",
       "    <tr style=\"text-align: right;\">\n",
       "      <th></th>\n",
       "      <th>Title</th>\n",
       "      <th>Company</th>\n",
       "      <th>Location</th>\n",
       "      <th>Description</th>\n",
       "    </tr>\n",
       "  </thead>\n",
       "  <tbody>\n",
       "    <tr>\n",
       "      <th>0</th>\n",
       "      <td>Data Scientist II (Computational)\\nnew</td>\n",
       "      <td>Decision Sciences</td>\n",
       "      <td>Poway, CA 92064</td>\n",
       "      <td>Develop research and implementation plans, suc...</td>\n",
       "    </tr>\n",
       "    <tr>\n",
       "      <th>1</th>\n",
       "      <td>Senior Marketing Data Scientist</td>\n",
       "      <td>National Funding</td>\n",
       "      <td>San Diego, CA 92121 (Sorrento Valley area)</td>\n",
       "      <td>Builds recommendations by synthesizing data fr...</td>\n",
       "    </tr>\n",
       "    <tr>\n",
       "      <th>2</th>\n",
       "      <td>Data Scientist\\nnew</td>\n",
       "      <td>HP</td>\n",
       "      <td>Poway, CA 92064</td>\n",
       "      <td>Working within a dynamic, highly skilled and d...</td>\n",
       "    </tr>\n",
       "    <tr>\n",
       "      <th>3</th>\n",
       "      <td>Data Scientist - Remote\\nnew</td>\n",
       "      <td>SemanticBits LLC</td>\n",
       "      <td>San Diego, CA</td>\n",
       "      <td>Strong grasp of statistics, programming, and m...</td>\n",
       "    </tr>\n",
       "    <tr>\n",
       "      <th>4</th>\n",
       "      <td>Chief Data Scientist</td>\n",
       "      <td>Roc Search</td>\n",
       "      <td>San Diego, CA</td>\n",
       "      <td>Roc Search is currently recruiting for a Chief...</td>\n",
       "    </tr>\n",
       "    <tr>\n",
       "      <th>5</th>\n",
       "      <td>Senior Data Scientist\\nnew</td>\n",
       "      <td>Decision Sciences International Corporation</td>\n",
       "      <td>San Diego, CA</td>\n",
       "      <td>Develop research and implementation plans, suc...</td>\n",
       "    </tr>\n",
       "    <tr>\n",
       "      <th>6</th>\n",
       "      <td>Senior AI / Knowledge Scientist\\nnew</td>\n",
       "      <td>CureMatch, Inc.</td>\n",
       "      <td>San Diego, CA 92037 (La Jolla area)</td>\n",
       "      <td>Must be able to communicate effectively with o...</td>\n",
       "    </tr>\n",
       "    <tr>\n",
       "      <th>7</th>\n",
       "      <td>Data Scientist II (Computational)\\nnew</td>\n",
       "      <td>Decision Sciences International Corporation</td>\n",
       "      <td>San Diego, CA</td>\n",
       "      <td>Develop research and implementation plans, suc...</td>\n",
       "    </tr>\n",
       "    <tr>\n",
       "      <th>8</th>\n",
       "      <td>Clinical Laboratory Scientist - Data Review\\nnew</td>\n",
       "      <td>Millennium Health</td>\n",
       "      <td>San Diego, CA 92101 (Marina area)</td>\n",
       "      <td>May oversee the duties of clinical laboratory ...</td>\n",
       "    </tr>\n",
       "    <tr>\n",
       "      <th>9</th>\n",
       "      <td>Data Architect/Scientist</td>\n",
       "      <td>Wind River</td>\n",
       "      <td>San Diego, CA</td>\n",
       "      <td>Wind River Systems is seeking an experienced h...</td>\n",
       "    </tr>\n",
       "  </tbody>\n",
       "</table>\n",
       "</div>"
      ],
      "text/plain": [
       "                                              Title  \\\n",
       "0            Data Scientist II (Computational)\\nnew   \n",
       "1                   Senior Marketing Data Scientist   \n",
       "2                               Data Scientist\\nnew   \n",
       "3                      Data Scientist - Remote\\nnew   \n",
       "4                              Chief Data Scientist   \n",
       "5                        Senior Data Scientist\\nnew   \n",
       "6              Senior AI / Knowledge Scientist\\nnew   \n",
       "7            Data Scientist II (Computational)\\nnew   \n",
       "8  Clinical Laboratory Scientist - Data Review\\nnew   \n",
       "9                          Data Architect/Scientist   \n",
       "\n",
       "                                       Company  \\\n",
       "0                            Decision Sciences   \n",
       "1                             National Funding   \n",
       "2                                           HP   \n",
       "3                             SemanticBits LLC   \n",
       "4                                   Roc Search   \n",
       "5  Decision Sciences International Corporation   \n",
       "6                              CureMatch, Inc.   \n",
       "7  Decision Sciences International Corporation   \n",
       "8                            Millennium Health   \n",
       "9                                   Wind River   \n",
       "\n",
       "                                     Location  \\\n",
       "0                             Poway, CA 92064   \n",
       "1  San Diego, CA 92121 (Sorrento Valley area)   \n",
       "2                             Poway, CA 92064   \n",
       "3                               San Diego, CA   \n",
       "4                               San Diego, CA   \n",
       "5                               San Diego, CA   \n",
       "6         San Diego, CA 92037 (La Jolla area)   \n",
       "7                               San Diego, CA   \n",
       "8           San Diego, CA 92101 (Marina area)   \n",
       "9                               San Diego, CA   \n",
       "\n",
       "                                         Description  \n",
       "0  Develop research and implementation plans, suc...  \n",
       "1  Builds recommendations by synthesizing data fr...  \n",
       "2  Working within a dynamic, highly skilled and d...  \n",
       "3  Strong grasp of statistics, programming, and m...  \n",
       "4  Roc Search is currently recruiting for a Chief...  \n",
       "5  Develop research and implementation plans, suc...  \n",
       "6  Must be able to communicate effectively with o...  \n",
       "7  Develop research and implementation plans, suc...  \n",
       "8  May oversee the duties of clinical laboratory ...  \n",
       "9  Wind River Systems is seeking an experienced h...  "
      ]
     },
     "execution_count": 23,
     "metadata": {},
     "output_type": "execute_result"
    }
   ],
   "source": [
    "df = pd.DataFrame(data = job_data, columns=['Title', 'Company','Location','Description'])\n",
    "df"
   ]
  },
  {
   "cell_type": "code",
   "execution_count": null,
   "metadata": {},
   "outputs": [],
   "source": []
  }
 ],
 "metadata": {
  "kernelspec": {
   "display_name": "Python 3",
   "language": "python",
   "name": "python3"
  },
  "language_info": {
   "codemirror_mode": {
    "name": "ipython",
    "version": 3
   },
   "file_extension": ".py",
   "mimetype": "text/x-python",
   "name": "python",
   "nbconvert_exporter": "python",
   "pygments_lexer": "ipython3",
   "version": "3.7.6"
  }
 },
 "nbformat": 4,
 "nbformat_minor": 4
}
